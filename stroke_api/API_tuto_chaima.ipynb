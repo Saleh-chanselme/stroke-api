{
 "cells": [
  {
   "cell_type": "markdown",
   "id": "5b9227f7",
   "metadata": {},
   "source": [
    "# Mise à disposition du jeu de données stroke_dataset via une API REST"
   ]
  },
  {
   "cell_type": "markdown",
   "id": "02037c20",
   "metadata": {},
   "source": [
    "## Description du dataset\n",
    "\n",
    "Le jeu de données utilisé provient de Kaggle : [Stroke Prediction Dataset](https://www.kaggle.com/datasets/fedesoriano/stroke-prediction-dataset).  \n",
    "Il contient des données de patients avec différentes caractéristiques médicales et sociales, ainsi que l'information si le patient a subi un accident vasculaire cérébral (AVC) ou non.\n",
    "\n",
    "Télécharger les données et ajouter les dans un dossier data/.\n",
    "\n",
    "Les colonnes des données sont :  \n",
    "- `id` : Identifiant unique du patient  \n",
    "- `gender` : Sexe  \n",
    "- `age` : Âge  \n",
    "- `hypertension` : Présence d'hypertension (0 ou 1)  \n",
    "- `heart_disease` : Présence de maladie cardiaque (0 ou 1)  \n",
    "- `ever_married` : Statut marital  \n",
    "- `work_type` : Type d'emploi  \n",
    "- `Residence_type` : Urbaine ou rurale  \n",
    "- `avg_glucose_level` : Moyenne du taux de glucose  \n",
    "- `bmi` : Indice de masse corporelle  \n",
    "- `smoking_status` : Statut tabagique  \n",
    "- `stroke` : Présence d'AVC (0 ou 1)\n",
    "\n",
    "## Projet\n",
    "\n",
    "Vous devez exposer les données patients du jeu de données via une API REST afin que les données soit utilisables par d'autres équipes (médecins, data science, étude, etc.).\n",
    "\n",
    "Cette API REST sera développée avec FastAPI et les spécifications sont les suivantes :\n",
    "| Méthode | Endpoint                                      | Fonctionnalité                                                                                                    |\n",
    "| ------- | --------------------------------------------- | ----------------------------------------------------------------------------------------------------------------- |\n",
    "| `GET`   | `/patients/{id}`                              | Récupère les détails d’un patient donné (via son identifiant unique)                                              |\n",
    "| `GET`   | `/patients?stroke=1&gender=Female&max_age=60` | Renvoie les patients filtrés selon plusieurs critères : AVC (oui/non), genre, âge maximal                         |\n",
    "| `GET`   | `/stats/`                                     | Fournit des statistiques agrégées sur les patients (ex. : nb total de patients, âge moyen, taux d’AVC, répartition hommes/femmes, etc.) |\n",
    "\n",
    "\n",
    "\n",
    "---\n",
    "\n",
    "## Quelques définitions\n",
    "\n",
    "\n",
    "1. Qu’est-ce qu’une API REST ?\n",
    "\n",
    "- API signifie Application Programming Interface (Interface de Programmation d’Application). C’est un ensemble de règles et de protocoles qui permettent à des logiciels de communiquer entre eux.\n",
    "- REST signifie Representational State Transfer. C’est un style architectural pour concevoir des services web.\n",
    "Il en existe d'autres mais REST est celui que vous rencontrerez le plus souvent.\n",
    "- Vous avez utilisé une API REST via l'API Google Books.\n",
    "\n",
    "- A quoi sert une API REST ?\n",
    "\n",
    "    - Permet à différentes applications de communiquer facilement, même si elles sont écrites dans des langages différents.\n",
    "    - Permet d’accéder à des services distants (ex : bases de données, services web) de manière standardisée.\n",
    "    - Facilite la création d’applications modulaires et évolutives (front-end, back-end, mobile, etc.)\n",
    "\n",
    "2. Principes clés d’une API REST\n",
    "\n",
    "- a. Utilisation du protocole HTTP\n",
    "Les échanges entre client et serveur utilisent des méthodes HTTP standard comme :\n",
    "\n",
    "    - GET : pour récupérer des données\n",
    "    - POST : pour envoyer ou créer des données\n",
    "    - PUT : pour mettre à jour des données\n",
    "    - DELETE : pour supprimer des données\n",
    "\n",
    "- b. Accès aux ressources via des URLs\n",
    "\n",
    "Chaque ressource (par exemple un livre, un utilisateur) est accessible via une URL unique.\n",
    "\n",
    "Exemple fictif:\n",
    "    https://api.example.com/books/123 pour accéder au livre d’identifiant 123.\n",
    "\n",
    "- c. Stateless (sans état)\n",
    "\n",
    "Le serveur ne conserve aucune information sur le client entre deux requêtes. Chaque requête doit contenir toutes les informations nécessaires.\n",
    "\n",
    "- d. Représentations des données\n",
    "\n",
    "Les données sont envoyées et reçues généralement en format JSON ou XML, qui sont faciles à lire et à manipuler.\n",
    "\n",
    "- e. Utilisation de codes status HTTP\n",
    "\n",
    "Chaque réponse du serveur est accompagnée d’un code HTTP indiquant le résultat de la requête. (cf [liste des codes](https://developer.mozilla.org/en-US/docs/Web/HTTP/Reference/Status))\n",
    "\n",
    "## Outils utilisés\n",
    "1. FastAPI\n",
    "\n",
    "FastAPI est un framework Python moderne, rapide et très utilisé dans le milieu professionnel pour construire des API REST. \n",
    "\n",
    "Il permet :\n",
    "- une définition simple des routes et des paramètres  \n",
    "- La génération automatique de documentation interactive (Swagger UI)  \n",
    "- FastAPI lit les requêtes entrantes, les traite avec ton code Python, et retourne une réponse HTTP (en JSON).\n",
    "\n",
    "2. Uvicorn : exécute l'application FastAPI\n",
    "\n",
    "- Uvicorn est un serveur ASGI (Asynchronous Server Gateway Interface) : c'est une interface standard pour gérer les requêtes de manière asynchrone et performante, notamment utile pour les applications modernes.\n",
    "- Il attend les requêtes HTTP (par exemple depuis un navigateur), les transmet à FastAPI, et renvoie la réponse.\n",
    "- Uvicorn permet à l'API de fonctionner : sans Uvicorn ou un autre serveur, FastAPI ne peut pas fonctionner.\n",
    "\n",
    "\n",
    "3. Swagger UI : l’interface de doc et test interactive\n",
    "\n",
    "- Swagger UI est généré automatiquement par FastAPI.\n",
    "- C’est une interface web qui permet de :\n",
    "    - Voir toutes les routes disponibles dans l'API\n",
    "    - Tester les routes en envoyant des requêtes sans écrire de code (bouton try it out)\n",
    "    - Voir les paramètres attendus et les formats de réponse\n",
    "    \n",
    "4. Résumé des interactions\n",
    "\n",
    "- Tester la route de base de l'API grâce à la commande :\n",
    "```bash\n",
    "    poetry run fastapi dev stroke_api/main.py\n",
    "```\n",
    "\n",
    "--> Qu'est-ce qu'il se passe derrière cette commande ?\n",
    "\n",
    "- Uvicorn démarre un serveur local\n",
    "- FastAPI génère automatiquement une interface : Swagger UI, accessible sur http://127.0.0.1:8000/docs qui affiche toutes les routes définies dans le code python FastAPI\n",
    "- Quand on clique sur \"Try it out\" dans Swagger UI, Swagger envoie une requête HTTP au serveur (ici Uvicorn)\n",
    "- Le serveur (Uvicorn) la reçoit, l’envoie à FastAPI, qui traite et renvoie une réponse\n",
    "- Swagger UI affiche la réponse de l’API (par ex : liste de patients)"
   ]
  },
  {
   "cell_type": "markdown",
   "id": "d02e38a2",
   "metadata": {},
   "source": [
    "---\n",
    "\n",
    "Import des bibliothèques utiles au projet"
   ]
  },
  {
   "cell_type": "code",
   "execution_count": 1,
   "id": "548f6eb5",
   "metadata": {},
   "outputs": [],
   "source": [
    "import pandas as pd"
   ]
  },
  {
   "cell_type": "markdown",
   "id": "92cf9064",
   "metadata": {},
   "source": [
    "## 1. Prétraitement des données / Data preprocessing\n",
    "\n",
    "Les données réelles sont rarement prêtes à être utilisées directement. Elles peuvent contenir des erreurs, des valeurs manquantes, des doublons, des formats incohérents, ou ne pas être adaptées au modèle ou au système cible.\n",
    "\n",
    "Le prétraitement consiste à nettoyer, structurer et transformer les données brutes avant de les exploiter dans un projet (modèle IA, API, visualisation, etc.).\n",
    "\n",
    "Vous avez déjà prétraité des données, petit rappel des éléments sur lesquels travailler dans un prétraitment classique et les méthodes pandas qu'il est possible d'utiliser pour les différentes étapes (des exeples d'utilisation des méthodes pandas sont disponibles dans la doc) : \n",
    "- explorer les données pour identifier les types de données, valeurs manquantes, incohérence ([info](https://pandas.pydata.org/pandas-docs/stable/reference/api/pandas.DataFrame.info.html), [dtypes](https://pandas.pydata.org/pandas-docs/stable/reference/api/pandas.DataFrame.dtypes.html))\n",
    "- adapter les types si nécessaire ([astypes](https://pandas.pydata.org/docs/reference/api/pandas.DataFrame.astype.html))\n",
    "- identifier les doublons et les supprimer s'il y en a ([duplicated](https://pandas.pydata.org/pandas-docs/stable/reference/api/pandas.DataFrame.duplicated.html), [drop_duplicates](https://pandas.pydata.org/pandas-docs/stable/reference/api/pandas.DataFrame.drop_duplicates.html))\n",
    "- traiter les valeurs manquantes s'il y en a ([fillna](https://pandas.pydata.org/pandas-docs/stable/reference/api/pandas.DataFrame.fillna.html), [dropna](https://pandas.pydata.org/pandas-docs/stable/reference/api/pandas.DataFrame.dropna.html), [replace](https://pandas.pydata.org/pandas-docs/stable/reference/api/pandas.DataFrame.replace.html))\n",
    "- identifier les incohérences éventuelles (valeurs aberrantes/outliers) en vérifiant si les valeurs min, max, moyennes sont raisonnables (recherche internet si nécessaire) ([describe](https://pandas.pydata.org/pandas-docs/stable/reference/api/pandas.DataFrame.describe.html)), et les traiter.\n",
    "- Traiter les valeurs aberrantes si vous en détectez ([loc](https://pandas.pydata.org/pandas-docs/stable/reference/api/pandas.DataFrame.loc.html) pour récupérer les lignes qui répondent à une certaine condition, cf exemple ci-dessous)\n",
    "\n",
    "\n",
    "**Exemple df.loc :**\n",
    "\n",
    "Récupérer toutes les lignes de df telles que la valeur de \"nom de colonne\" >= 0\n",
    "\n",
    "```df_subset = df.loc[stroke_data_df['nom de colonne'] >= 0]```\n",
    "\n"
   ]
  },
  {
   "cell_type": "markdown",
   "id": "efb65710",
   "metadata": {},
   "source": [
    "---\n",
    "### **TODO**\n",
    "1.a. Prétraiter les données du dataset.\n",
    "\n",
    "\n",
    "1.b. Documenter dans le README.md :\n",
    "- Les étapes de prétraitement,\n",
    "- Justification des choix concernant le traitement des valeurs manquantes (si besoin),\n",
    "- Liste des valeurs raisonnables utilisées pour détecter les valeurs aberrantes, \n",
    "- Justification des choix pour traiter les valeurs aberrantes (si besoin).\n",
    "\n",
    "2.a. Chercher des infos sur le format de fichier parquet et indiquer les sources consultées : \n",
    "- Différence principale avec le format csv ?\n",
    "- Dans quels cas l'utiliser ? \n",
    "- Pourquoi c'est un format adapté aux gros volumes de données ?\n",
    "\n",
    "\n",
    "\n",
    "2.b. Sauvegarder les données prétraiteées dans un fichier parquet ([to_parquet](https://pandas.pydata.org/pandas-docs/stable/reference/api/pandas.DataFrame.to_parquet.html)).\n"
   ]
  },
  {
   "cell_type": "code",
   "execution_count": null,
   "id": "6f760f08",
   "metadata": {},
   "outputs": [],
   "source": [
    "#1.a Prétraitement de données\n",
    "\n"
   ]
  },
  {
   "cell_type": "code",
   "execution_count": 42,
   "id": "4f46c40c",
   "metadata": {},
   "outputs": [
    {
     "name": "stdout",
     "output_type": "stream",
     "text": [
      "/\n"
     ]
    }
   ],
   "source": [
    "import os\n",
    "print(os.getcwd())  # Affiche le dossier courant\n"
   ]
  },
  {
   "cell_type": "code",
   "execution_count": 67,
   "id": "c45a67d4",
   "metadata": {},
   "outputs": [],
   "source": [
    "#Chargement du dataset\n",
    "import pandas as pd\n",
    "df = pd.read_csv(\"/home/chaima/stroke-api/stroke_api/data/healthcare-dataset-stroke-data.csv\") "
   ]
  },
  {
   "cell_type": "code",
   "execution_count": null,
   "id": "966959d6",
   "metadata": {},
   "outputs": [
    {
     "name": "stdout",
     "output_type": "stream",
     "text": [
      "<class 'pandas.core.frame.DataFrame'>\n",
      "RangeIndex: 5110 entries, 0 to 5109\n",
      "Data columns (total 12 columns):\n",
      " #   Column             Non-Null Count  Dtype  \n",
      "---  ------             --------------  -----  \n",
      " 0   id                 5110 non-null   int64  \n",
      " 1   gender             5110 non-null   object \n",
      " 2   age                5110 non-null   float64\n",
      " 3   hypertension       5110 non-null   int64  \n",
      " 4   heart_disease      5110 non-null   int64  \n",
      " 5   ever_married       5110 non-null   object \n",
      " 6   work_type          5110 non-null   object \n",
      " 7   Residence_type     5110 non-null   object \n",
      " 8   avg_glucose_level  5110 non-null   float64\n",
      " 9   bmi                4909 non-null   float64\n",
      " 10  smoking_status     5110 non-null   object \n",
      " 11  stroke             5110 non-null   int64  \n",
      "dtypes: float64(3), int64(4), object(5)\n",
      "memory usage: 479.2+ KB\n"
     ]
    }
   ],
   "source": [
    "# Aperçu des données\n",
    "df.info()"
   ]
  },
  {
   "cell_type": "code",
   "execution_count": 69,
   "id": "e2315db1",
   "metadata": {},
   "outputs": [
    {
     "data": {
      "text/html": [
       "<div>\n",
       "<style scoped>\n",
       "    .dataframe tbody tr th:only-of-type {\n",
       "        vertical-align: middle;\n",
       "    }\n",
       "\n",
       "    .dataframe tbody tr th {\n",
       "        vertical-align: top;\n",
       "    }\n",
       "\n",
       "    .dataframe thead th {\n",
       "        text-align: right;\n",
       "    }\n",
       "</style>\n",
       "<table border=\"1\" class=\"dataframe\">\n",
       "  <thead>\n",
       "    <tr style=\"text-align: right;\">\n",
       "      <th></th>\n",
       "      <th>id</th>\n",
       "      <th>age</th>\n",
       "      <th>hypertension</th>\n",
       "      <th>heart_disease</th>\n",
       "      <th>avg_glucose_level</th>\n",
       "      <th>bmi</th>\n",
       "      <th>stroke</th>\n",
       "    </tr>\n",
       "  </thead>\n",
       "  <tbody>\n",
       "    <tr>\n",
       "      <th>count</th>\n",
       "      <td>5110.000000</td>\n",
       "      <td>5110.000000</td>\n",
       "      <td>5110.000000</td>\n",
       "      <td>5110.000000</td>\n",
       "      <td>5110.000000</td>\n",
       "      <td>4909.000000</td>\n",
       "      <td>5110.000000</td>\n",
       "    </tr>\n",
       "    <tr>\n",
       "      <th>mean</th>\n",
       "      <td>36517.829354</td>\n",
       "      <td>43.226614</td>\n",
       "      <td>0.097456</td>\n",
       "      <td>0.054012</td>\n",
       "      <td>106.147677</td>\n",
       "      <td>28.893237</td>\n",
       "      <td>0.048728</td>\n",
       "    </tr>\n",
       "    <tr>\n",
       "      <th>std</th>\n",
       "      <td>21161.721625</td>\n",
       "      <td>22.612647</td>\n",
       "      <td>0.296607</td>\n",
       "      <td>0.226063</td>\n",
       "      <td>45.283560</td>\n",
       "      <td>7.854067</td>\n",
       "      <td>0.215320</td>\n",
       "    </tr>\n",
       "    <tr>\n",
       "      <th>min</th>\n",
       "      <td>67.000000</td>\n",
       "      <td>0.080000</td>\n",
       "      <td>0.000000</td>\n",
       "      <td>0.000000</td>\n",
       "      <td>55.120000</td>\n",
       "      <td>10.300000</td>\n",
       "      <td>0.000000</td>\n",
       "    </tr>\n",
       "    <tr>\n",
       "      <th>25%</th>\n",
       "      <td>17741.250000</td>\n",
       "      <td>25.000000</td>\n",
       "      <td>0.000000</td>\n",
       "      <td>0.000000</td>\n",
       "      <td>77.245000</td>\n",
       "      <td>23.500000</td>\n",
       "      <td>0.000000</td>\n",
       "    </tr>\n",
       "    <tr>\n",
       "      <th>50%</th>\n",
       "      <td>36932.000000</td>\n",
       "      <td>45.000000</td>\n",
       "      <td>0.000000</td>\n",
       "      <td>0.000000</td>\n",
       "      <td>91.885000</td>\n",
       "      <td>28.100000</td>\n",
       "      <td>0.000000</td>\n",
       "    </tr>\n",
       "    <tr>\n",
       "      <th>75%</th>\n",
       "      <td>54682.000000</td>\n",
       "      <td>61.000000</td>\n",
       "      <td>0.000000</td>\n",
       "      <td>0.000000</td>\n",
       "      <td>114.090000</td>\n",
       "      <td>33.100000</td>\n",
       "      <td>0.000000</td>\n",
       "    </tr>\n",
       "    <tr>\n",
       "      <th>max</th>\n",
       "      <td>72940.000000</td>\n",
       "      <td>82.000000</td>\n",
       "      <td>1.000000</td>\n",
       "      <td>1.000000</td>\n",
       "      <td>271.740000</td>\n",
       "      <td>97.600000</td>\n",
       "      <td>1.000000</td>\n",
       "    </tr>\n",
       "  </tbody>\n",
       "</table>\n",
       "</div>"
      ],
      "text/plain": [
       "                 id          age  hypertension  heart_disease  \\\n",
       "count   5110.000000  5110.000000   5110.000000    5110.000000   \n",
       "mean   36517.829354    43.226614      0.097456       0.054012   \n",
       "std    21161.721625    22.612647      0.296607       0.226063   \n",
       "min       67.000000     0.080000      0.000000       0.000000   \n",
       "25%    17741.250000    25.000000      0.000000       0.000000   \n",
       "50%    36932.000000    45.000000      0.000000       0.000000   \n",
       "75%    54682.000000    61.000000      0.000000       0.000000   \n",
       "max    72940.000000    82.000000      1.000000       1.000000   \n",
       "\n",
       "       avg_glucose_level          bmi       stroke  \n",
       "count        5110.000000  4909.000000  5110.000000  \n",
       "mean          106.147677    28.893237     0.048728  \n",
       "std            45.283560     7.854067     0.215320  \n",
       "min            55.120000    10.300000     0.000000  \n",
       "25%            77.245000    23.500000     0.000000  \n",
       "50%            91.885000    28.100000     0.000000  \n",
       "75%           114.090000    33.100000     0.000000  \n",
       "max           271.740000    97.600000     1.000000  "
      ]
     },
     "execution_count": 69,
     "metadata": {},
     "output_type": "execute_result"
    }
   ],
   "source": [
    "#Aperçu des données\n",
    "df.describe()"
   ]
  },
  {
   "cell_type": "code",
   "execution_count": 70,
   "id": "b69d34bc",
   "metadata": {},
   "outputs": [
    {
     "data": {
      "text/html": [
       "<div>\n",
       "<style scoped>\n",
       "    .dataframe tbody tr th:only-of-type {\n",
       "        vertical-align: middle;\n",
       "    }\n",
       "\n",
       "    .dataframe tbody tr th {\n",
       "        vertical-align: top;\n",
       "    }\n",
       "\n",
       "    .dataframe thead th {\n",
       "        text-align: right;\n",
       "    }\n",
       "</style>\n",
       "<table border=\"1\" class=\"dataframe\">\n",
       "  <thead>\n",
       "    <tr style=\"text-align: right;\">\n",
       "      <th></th>\n",
       "      <th>id</th>\n",
       "      <th>gender</th>\n",
       "      <th>age</th>\n",
       "      <th>hypertension</th>\n",
       "      <th>heart_disease</th>\n",
       "      <th>ever_married</th>\n",
       "      <th>work_type</th>\n",
       "      <th>Residence_type</th>\n",
       "      <th>avg_glucose_level</th>\n",
       "      <th>bmi</th>\n",
       "      <th>smoking_status</th>\n",
       "      <th>stroke</th>\n",
       "    </tr>\n",
       "  </thead>\n",
       "  <tbody>\n",
       "    <tr>\n",
       "      <th>0</th>\n",
       "      <td>9046</td>\n",
       "      <td>Male</td>\n",
       "      <td>67.0</td>\n",
       "      <td>0</td>\n",
       "      <td>1</td>\n",
       "      <td>Yes</td>\n",
       "      <td>Private</td>\n",
       "      <td>Urban</td>\n",
       "      <td>228.69</td>\n",
       "      <td>36.6</td>\n",
       "      <td>formerly smoked</td>\n",
       "      <td>1</td>\n",
       "    </tr>\n",
       "    <tr>\n",
       "      <th>1</th>\n",
       "      <td>51676</td>\n",
       "      <td>Female</td>\n",
       "      <td>61.0</td>\n",
       "      <td>0</td>\n",
       "      <td>0</td>\n",
       "      <td>Yes</td>\n",
       "      <td>Self-employed</td>\n",
       "      <td>Rural</td>\n",
       "      <td>202.21</td>\n",
       "      <td>NaN</td>\n",
       "      <td>never smoked</td>\n",
       "      <td>1</td>\n",
       "    </tr>\n",
       "    <tr>\n",
       "      <th>2</th>\n",
       "      <td>31112</td>\n",
       "      <td>Male</td>\n",
       "      <td>80.0</td>\n",
       "      <td>0</td>\n",
       "      <td>1</td>\n",
       "      <td>Yes</td>\n",
       "      <td>Private</td>\n",
       "      <td>Rural</td>\n",
       "      <td>105.92</td>\n",
       "      <td>32.5</td>\n",
       "      <td>never smoked</td>\n",
       "      <td>1</td>\n",
       "    </tr>\n",
       "    <tr>\n",
       "      <th>3</th>\n",
       "      <td>60182</td>\n",
       "      <td>Female</td>\n",
       "      <td>49.0</td>\n",
       "      <td>0</td>\n",
       "      <td>0</td>\n",
       "      <td>Yes</td>\n",
       "      <td>Private</td>\n",
       "      <td>Urban</td>\n",
       "      <td>171.23</td>\n",
       "      <td>34.4</td>\n",
       "      <td>smokes</td>\n",
       "      <td>1</td>\n",
       "    </tr>\n",
       "    <tr>\n",
       "      <th>4</th>\n",
       "      <td>1665</td>\n",
       "      <td>Female</td>\n",
       "      <td>79.0</td>\n",
       "      <td>1</td>\n",
       "      <td>0</td>\n",
       "      <td>Yes</td>\n",
       "      <td>Self-employed</td>\n",
       "      <td>Rural</td>\n",
       "      <td>174.12</td>\n",
       "      <td>24.0</td>\n",
       "      <td>never smoked</td>\n",
       "      <td>1</td>\n",
       "    </tr>\n",
       "  </tbody>\n",
       "</table>\n",
       "</div>"
      ],
      "text/plain": [
       "      id  gender   age  hypertension  heart_disease ever_married  \\\n",
       "0   9046    Male  67.0             0              1          Yes   \n",
       "1  51676  Female  61.0             0              0          Yes   \n",
       "2  31112    Male  80.0             0              1          Yes   \n",
       "3  60182  Female  49.0             0              0          Yes   \n",
       "4   1665  Female  79.0             1              0          Yes   \n",
       "\n",
       "       work_type Residence_type  avg_glucose_level   bmi   smoking_status  \\\n",
       "0        Private          Urban             228.69  36.6  formerly smoked   \n",
       "1  Self-employed          Rural             202.21   NaN     never smoked   \n",
       "2        Private          Rural             105.92  32.5     never smoked   \n",
       "3        Private          Urban             171.23  34.4           smokes   \n",
       "4  Self-employed          Rural             174.12  24.0     never smoked   \n",
       "\n",
       "   stroke  \n",
       "0       1  \n",
       "1       1  \n",
       "2       1  \n",
       "3       1  \n",
       "4       1  "
      ]
     },
     "execution_count": 70,
     "metadata": {},
     "output_type": "execute_result"
    }
   ],
   "source": [
    "#Aperçu des données\n",
    "df.head()"
   ]
  },
  {
   "cell_type": "markdown",
   "id": "3bb3ff88",
   "metadata": {},
   "source": [
    "### verification si on a besoin traitement des doublons:"
   ]
  },
  {
   "cell_type": "code",
   "execution_count": null,
   "id": "7f6a1987",
   "metadata": {},
   "outputs": [
    {
     "data": {
      "text/plain": [
       "np.int64(0)"
      ]
     },
     "execution_count": 72,
     "metadata": {},
     "output_type": "execute_result"
    }
   ],
   "source": [
    "#verification si on a besoin traitement des doublons:\n",
    "#Compter le nombre de lignes dupliquées\n",
    "df.duplicated().sum()  \n",
    "#resultat-->DataFrame ne contient aucun doublon"
   ]
  },
  {
   "cell_type": "markdown",
   "id": "1ff023a0",
   "metadata": {},
   "source": [
    " Traitement des valeurs manquantes"
   ]
  },
  {
   "cell_type": "code",
   "execution_count": 73,
   "id": "38cc265a",
   "metadata": {},
   "outputs": [
    {
     "data": {
      "text/plain": [
       "id                     0\n",
       "gender                 0\n",
       "age                    0\n",
       "hypertension           0\n",
       "heart_disease          0\n",
       "ever_married           0\n",
       "work_type              0\n",
       "Residence_type         0\n",
       "avg_glucose_level      0\n",
       "bmi                  201\n",
       "smoking_status         0\n",
       "stroke                 0\n",
       "dtype: int64"
      ]
     },
     "execution_count": 73,
     "metadata": {},
     "output_type": "execute_result"
    }
   ],
   "source": [
    "#Traitement des valeurs manquantes\n",
    "df.isna().sum()"
   ]
  },
  {
   "cell_type": "code",
   "execution_count": null,
   "id": "309b3e46",
   "metadata": {},
   "outputs": [],
   "source": [
    "#Colonne bmi contient des NaN \n",
    "# On les remplit par la moyenne selon le groupe exact (gender + age)\n",
    "\n",
    "# remplir les NaN avec la moyenne du groupe (gender, age)\n",
    "df['bmi'] = df['bmi'].fillna(\n",
    "    df.groupby(['gender', 'age'])['bmi'].transform('mean')\n",
    ")"
   ]
  },
  {
   "cell_type": "code",
   "execution_count": null,
   "id": "84e1bf3b",
   "metadata": {},
   "outputs": [
    {
     "data": {
      "text/plain": [
       "np.int64(1)"
      ]
     },
     "execution_count": 75,
     "metadata": {},
     "output_type": "execute_result"
    }
   ],
   "source": [
    "# verification \n",
    "df['bmi'].isna().sum()"
   ]
  },
  {
   "cell_type": "code",
   "execution_count": null,
   "id": "1cdc2a30",
   "metadata": {},
   "outputs": [
    {
     "data": {
      "text/html": [
       "<div>\n",
       "<style scoped>\n",
       "    .dataframe tbody tr th:only-of-type {\n",
       "        vertical-align: middle;\n",
       "    }\n",
       "\n",
       "    .dataframe tbody tr th {\n",
       "        vertical-align: top;\n",
       "    }\n",
       "\n",
       "    .dataframe thead th {\n",
       "        text-align: right;\n",
       "    }\n",
       "</style>\n",
       "<table border=\"1\" class=\"dataframe\">\n",
       "  <thead>\n",
       "    <tr style=\"text-align: right;\">\n",
       "      <th></th>\n",
       "      <th>id</th>\n",
       "      <th>gender</th>\n",
       "      <th>age</th>\n",
       "      <th>hypertension</th>\n",
       "      <th>heart_disease</th>\n",
       "      <th>ever_married</th>\n",
       "      <th>work_type</th>\n",
       "      <th>Residence_type</th>\n",
       "      <th>avg_glucose_level</th>\n",
       "      <th>bmi</th>\n",
       "      <th>smoking_status</th>\n",
       "      <th>stroke</th>\n",
       "    </tr>\n",
       "  </thead>\n",
       "  <tbody>\n",
       "    <tr>\n",
       "      <th>2030</th>\n",
       "      <td>38920</td>\n",
       "      <td>Male</td>\n",
       "      <td>0.48</td>\n",
       "      <td>0</td>\n",
       "      <td>0</td>\n",
       "      <td>No</td>\n",
       "      <td>children</td>\n",
       "      <td>Urban</td>\n",
       "      <td>73.02</td>\n",
       "      <td>NaN</td>\n",
       "      <td>Unknown</td>\n",
       "      <td>0</td>\n",
       "    </tr>\n",
       "  </tbody>\n",
       "</table>\n",
       "</div>"
      ],
      "text/plain": [
       "         id gender   age  hypertension  heart_disease ever_married work_type  \\\n",
       "2030  38920   Male  0.48             0              0           No  children   \n",
       "\n",
       "     Residence_type  avg_glucose_level  bmi smoking_status  stroke  \n",
       "2030          Urban              73.02  NaN        Unknown       0  "
      ]
     },
     "execution_count": 76,
     "metadata": {},
     "output_type": "execute_result"
    }
   ],
   "source": [
    "# afficher les lignes où bmi est encore manquant\n",
    "df[df['bmi'].isna()]"
   ]
  },
  {
   "cell_type": "markdown",
   "id": "39a2c7bf",
   "metadata": {},
   "source": [
    "l’âge pour cette valuer  est 0.48 ( c a d moins d’un an, probablement bébé), alors que le groupe (gender='Male', age=0.48) n’a peut-être aucune autre ligne avec un bmi renseigné pour calculer la moyenne et remplir ce NaN.\n",
    "alors on va le Remplir par une valeur médicale \"standard\" pour un bébé."
   ]
  },
  {
   "cell_type": "markdown",
   "id": "e2b8dece",
   "metadata": {},
   "source": [
    "solution :  remplacement de  ce NaN par une valeur fixe estimée (exemple : 16 comme IMC bébé moyen)"
   ]
  },
  {
   "cell_type": "code",
   "execution_count": null,
   "id": "77ec07d4",
   "metadata": {},
   "outputs": [
    {
     "name": "stdout",
     "output_type": "stream",
     "text": [
      "Nombre de NaN restants dans 'bmi' : 0\n"
     ]
    }
   ],
   "source": [
    "\n",
    "# Remplacer les NaN pour les bébés (age < 1 an) par une valeur fixe \n",
    "mask_babies = (df['age'] < 1) & (df['bmi'].isna())\n",
    "df.loc[mask_babies, 'bmi'] = 16\n",
    "\n",
    "# Pour tout autre NaN restant, remplir par la moyenne globale\n",
    "df['bmi'] = df['bmi'].fillna(df['bmi'].mean())\n",
    "\n",
    "# Vérification finale\n",
    "print(\"Nombre de NaN restants dans 'bmi' :\", df['bmi'].isna().sum())"
   ]
  },
  {
   "cell_type": "markdown",
   "id": "12b45804",
   "metadata": {},
   "source": [
    "### Verification si on a besoin de nettoyage des types"
   ]
  },
  {
   "cell_type": "code",
   "execution_count": null,
   "id": "c0b45c4f",
   "metadata": {},
   "outputs": [
    {
     "data": {
      "text/plain": [
       "id                     int64\n",
       "gender                object\n",
       "age                  float64\n",
       "hypertension           int64\n",
       "heart_disease          int64\n",
       "ever_married          object\n",
       "work_type             object\n",
       "Residence_type        object\n",
       "avg_glucose_level    float64\n",
       "bmi                  float64\n",
       "smoking_status        object\n",
       "stroke                 int64\n",
       "dtype: object"
      ]
     },
     "execution_count": 17,
     "metadata": {},
     "output_type": "execute_result"
    }
   ],
   "source": [
    "# Verification si on a besoin Nettoyage des types \n",
    "df.dtypes"
   ]
  },
  {
   "cell_type": "markdown",
   "id": "25c6724b",
   "metadata": {},
   "source": [
    "### resultat : pas besoin de modifier les types obligatoirement mais on peut le categoriser "
   ]
  },
  {
   "cell_type": "code",
   "execution_count": null,
   "id": "afb7a15b",
   "metadata": {},
   "outputs": [],
   "source": [
    "# resultat : pas besoin de modifier les types obligatoirement mais on peut le categoriser \n",
    "#Conversion types en category\n",
    "#Convertir les colonnes catégorielles pour gagner en mémoire et faciliter les modèles \n",
    "cat_cols = ['gender', 'ever_married', 'work_type', 'Residence_type', 'smoking_status']\n",
    "df[cat_cols] = df[cat_cols].astype('category')"
   ]
  },
  {
   "cell_type": "code",
   "execution_count": 48,
   "id": "4649cf24",
   "metadata": {},
   "outputs": [
    {
     "name": "stdout",
     "output_type": "stream",
     "text": [
      "gender : ['Male', 'Female', 'Other']\n",
      "Categories (3, object): ['Female', 'Male', 'Other']\n",
      "ever_married : ['Yes', 'No']\n",
      "Categories (2, object): ['No', 'Yes']\n",
      "work_type : ['Private', 'Self-employed', 'Govt_job', 'children', 'Never_worked']\n",
      "Categories (5, object): ['Govt_job', 'Never_worked', 'Private', 'Self-employed', 'children']\n",
      "Residence_type : ['Urban', 'Rural']\n",
      "Categories (2, object): ['Rural', 'Urban']\n",
      "smoking_status : ['formerly smoked', 'never smoked', 'smokes', 'Unknown']\n",
      "Categories (4, object): ['Unknown', 'formerly smoked', 'never smoked', 'smokes']\n"
     ]
    }
   ],
   "source": [
    "#Valeurs à inspecter manuellement\n",
    "#Examine les valeurs uniques pour repérer d’éventuelles erreurs :\n",
    "for col in cat_cols:\n",
    "    print(f\"{col} : {df[col].unique()}\")"
   ]
  },
  {
   "cell_type": "code",
   "execution_count": 82,
   "id": "9c6ba66c",
   "metadata": {},
   "outputs": [
    {
     "data": {
      "text/plain": [
       "stroke\n",
       "0    0.951148\n",
       "1    0.048852\n",
       "Name: proportion, dtype: float64"
      ]
     },
     "execution_count": 82,
     "metadata": {},
     "output_type": "execute_result"
    }
   ],
   "source": [
    "# Analyse de la variable cible stroke: Pour voir la proportion de patients avec AVC vs sans AVC \n",
    "\n",
    "df['stroke'].value_counts(normalize=True)\n",
    "#--> Problème : Forte déséquilibre de classes :Seulement ~5% des patients ont eu un AVC-->risque de prédire toujours 0 (pas d’AVC)"
   ]
  },
  {
   "cell_type": "markdown",
   "id": "07871662",
   "metadata": {},
   "source": [
    "### Détection de valeurs aberrantes"
   ]
  },
  {
   "cell_type": "markdown",
   "id": "445ee207",
   "metadata": {},
   "source": [
    "Méthode utilisée : IQR (InterQuartile Range)\n",
    "\n",
    "Formule : borne basse = Q1 - 1.5×IQR ; borne haute = Q3 + 1.5×IQR\n",
    "\n",
    "Variables analysées : bmi, age, avg_glucose_level\n",
    "\n",
    "Traitement : Les valeurs hors bornes ont été considérées comme aberrantes et supprimées du jeu de données nettoyé."
   ]
  },
  {
   "cell_type": "code",
   "execution_count": 92,
   "id": "04f32998",
   "metadata": {},
   "outputs": [
    {
     "name": "stdout",
     "output_type": "stream",
     "text": [
      "Valeurs aberrantes pour l'âge : 43\n",
      "Valeurs aberrantes pour le glucose : 625\n",
      "Valeurs aberrantes pour le BMI : 111\n"
     ]
    }
   ],
   "source": [
    "# Détection des valeurs aberrantes\n",
    "outliers_age = df[df['age'] < 1]\n",
    "outliers_glucose = df[df['avg_glucose_level'] > 169.36]\n",
    "outliers_bmi = df[df['bmi'] > 46.3]\n",
    "\n",
    "print(\"Valeurs aberrantes pour l'âge :\", outliers_age.shape[0])\n",
    "print(\"Valeurs aberrantes pour le glucose :\", outliers_glucose.shape[0])\n",
    "print(\"Valeurs aberrantes pour le BMI :\", outliers_bmi.shape[0])"
   ]
  },
  {
   "cell_type": "code",
   "execution_count": 91,
   "id": "22ebff05",
   "metadata": {},
   "outputs": [
    {
     "name": "stdout",
     "output_type": "stream",
     "text": [
      "bmi → 110 outliers détectés (hors [10.05, 46.45])\n",
      "\n",
      "Statistiques des outliers pour bmi:\n",
      "                 id         age  hypertension  heart_disease  \\\n",
      "count    110.000000  110.000000    110.000000     110.000000   \n",
      "mean   31518.972727   44.827273      0.145455       0.009091   \n",
      "std    20467.319898   13.590916      0.354172       0.095346   \n",
      "min       99.000000   14.000000      0.000000       0.000000   \n",
      "25%    14091.000000   35.500000      0.000000       0.000000   \n",
      "50%    31252.500000   45.000000      0.000000       0.000000   \n",
      "75%    47749.000000   53.000000      0.000000       0.000000   \n",
      "max    72696.000000   82.000000      1.000000       1.000000   \n",
      "\n",
      "       avg_glucose_level         bmi      stroke  \n",
      "count         110.000000  110.000000  110.000000  \n",
      "mean          126.005364   51.529091    0.027273  \n",
      "std            59.840501    3.370660    0.163622  \n",
      "min            56.630000   46.500000    0.000000  \n",
      "25%            80.822500   48.725000    0.000000  \n",
      "50%            99.440000   50.600000    0.000000  \n",
      "75%           193.450000   54.525000    0.000000  \n",
      "max           253.160000   59.700000    1.000000  \n",
      "age → 0 outliers détectés (hors [-29.00, 115.00])\n",
      "avg_glucose_level → 625 outliers détectés (hors [22.06, 169.31])\n",
      "\n",
      "Statistiques des outliers pour avg_glucose_level:\n",
      "                 id         age  hypertension  heart_disease  \\\n",
      "count    625.000000  625.000000    625.000000     625.000000   \n",
      "mean   36153.096000   59.986624      0.257600       0.164800   \n",
      "std    20952.383125   16.267879      0.437663       0.371297   \n",
      "min      239.000000    1.000000      0.000000       0.000000   \n",
      "25%    17004.000000   52.000000      0.000000       0.000000   \n",
      "50%    36524.000000   62.000000      0.000000       0.000000   \n",
      "75%    53515.000000   73.000000      1.000000       0.000000   \n",
      "max    72915.000000   82.000000      1.000000       1.000000   \n",
      "\n",
      "       avg_glucose_level         bmi      stroke  \n",
      "count         625.000000  625.000000  625.000000  \n",
      "mean          211.409040   32.936573    0.134400  \n",
      "std            20.793317    7.415529    0.341355  \n",
      "min           169.430000   14.200000    0.000000  \n",
      "25%           196.810000   27.900000    0.000000  \n",
      "50%           210.000000   31.600000    0.000000  \n",
      "75%           226.730000   36.800000    0.000000  \n",
      "max           271.740000   58.100000    1.000000  \n"
     ]
    }
   ],
   "source": [
    "# identifier des individus avec des valeurs de bmi, age,avg_glucose_level considérées comme hors norme.\n",
    "for col in ['bmi', 'age', 'avg_glucose_level']:\n",
    "    Q1 = df[col].quantile(0.25)\n",
    "    Q3 = df[col].quantile(0.75)\n",
    "    IQR = Q3 - Q1\n",
    "    # Définir les limites\n",
    "    borne_basse = Q1 - 1.5 * IQR\n",
    "    borne_haute = Q3 + 1.5 * IQR\n",
    "    # Afficher les outliers\n",
    "    outliers = df[(df[col] < borne_basse) | (df[col] > borne_haute)]\n",
    "    print(f\"{col} → {len(outliers)} outliers détectés (hors [{borne_basse:.2f}, {borne_haute:.2f}])\")\n",
    "    if not outliers.empty:\n",
    "        print(f\"\\nStatistiques des outliers pour {col}:\")\n",
    "        print(outliers.describe())\n"
   ]
  },
  {
   "cell_type": "markdown",
   "id": "40573b48",
   "metadata": {},
   "source": [
    "Les valeurs extrêmes détectées par la méthode IQR ont été conservées car elles reflètent des cas médicaux plausibles et importants \n",
    "\n",
    "on choisie d'appliquer une  transformation logarithmique pour que  les outliers ont moins d’impact négatif sur les modèles."
   ]
  },
  {
   "cell_type": "code",
   "execution_count": null,
   "id": "010b0dc9",
   "metadata": {},
   "outputs": [],
   "source": [
    "# Transformation log1p pour bmi et avg_glucose_level\n",
    "import numpy as np\n",
    "\n",
    "# Colonnes concernées par la transformation log\n",
    "cols_to_transform = ['bmi', 'avg_glucose_level']\n",
    "\n",
    "for col in cols_to_transform:\n",
    "    df[col + '_log'] = np.log1p(df[col])  # log1p = log(1 + x)\n",
    "    print(df)"
   ]
  },
  {
   "cell_type": "code",
   "execution_count": null,
   "id": "2bdd861d",
   "metadata": {},
   "outputs": [
    {
     "data": {
      "image/png": "[encoded data removed]",
      "text/plain": [
       "<Figure size 640x480 with 1 Axes>"
      ]
     },
     "metadata": {},
     "output_type": "display_data"
    },
    {
     "data": {
      "image/png": "[encoded data removed]",
      "text/plain": [
       "<Figure size 640x480 with 1 Axes>"
      ]
     },
     "metadata": {},
     "output_type": "display_data"
    },
    {
     "data": {
      "image/png": "[encoded data removed]",
      "text/plain": [
       "<Figure size 640x480 with 1 Axes>"
      ]
     },
     "metadata": {},
     "output_type": "display_data"
    },
    {
     "data": {
      "image/png": "[encoded data removed]",
      "text/plain": [
       "<Figure size 640x480 with 1 Axes>"
      ]
     },
     "metadata": {},
     "output_type": "display_data"
    }
   ],
   "source": [
    "#Vérification de l’effet des transformations : visualiser si la transformation a été efficace.\n",
    "import matplotlib.pyplot as plt\n",
    "\n",
    "for col in cols_to_transform:\n",
    "    plt.figure()\n",
    "    df[col].hist(bins=50)\n",
    "    plt.title(f'Distribution de {col} avant transformation')\n",
    "    \n",
    "    plt.figure()\n",
    "    df[col + '_log'].hist(bins=50)\n",
    "    plt.title(f'Distribution de {col}_log après transformation')\n"
   ]
  },
  {
   "cell_type": "markdown",
   "id": "b6dfaae1",
   "metadata": {},
   "source": [
    "-----\n",
    "## Développement de l'API\n",
    "\n",
    "A présent que les données sont propres, on peut débuter la création de l'API.\n",
    "\n",
    "Pour cela, vous allez avoir besoin de quelques fonctions permettant de filtrer les données.\n",
    "\n",
    "Vous allez les définir ci-dessous, ce qui vous permettra de les tester puis les fonctions seront reportées dans le fichier filters.py."
   ]
  },
  {
   "cell_type": "markdown",
   "id": "76c2b0d0",
   "metadata": {},
   "source": [
    "## Route `/patients/`\n",
    "- Cette route retourne une liste filtrée de patients\n",
    "- On souhaite pouvoir filtrer par `gender`, `stroke` ou `max_age`\n",
    "\n",
    "L'objectif est ici de définir une fonction python qui prend en entrée les paramètres optionnels : _gender_, *stroke*, *max_age* et qui renvoie un dictionnaire filtré des données.\n",
    "\n",
    "On décompose la rédaction de cette fonction en plusieurs étapes. \n",
    "\n",
    "Dans un premier temps, écrire et tester les filtres que l'on souhaite appliquer sur les données (utiliser [loc](https://pandas.pydata.org/pandas-docs/stable/reference/api/pandas.DataFrame.loc.html))"
   ]
  },
  {
   "cell_type": "code",
   "execution_count": null,
   "id": "5b25d9ad",
   "metadata": {},
   "outputs": [],
   "source": [
    "# Filtrer le dataframe pour ne garder que les patients pour lesquels \"stroke=1\"\n"
   ]
  },
  {
   "cell_type": "code",
   "execution_count": null,
   "id": "6eca4b81",
   "metadata": {},
   "outputs": [],
   "source": [
    "# Filtrer les données pour ne garder que les patients pour lesquels \"gender=\"male\"\n"
   ]
  },
  {
   "cell_type": "code",
   "execution_count": null,
   "id": "3bac1cff",
   "metadata": {},
   "outputs": [],
   "source": [
    "# Filtrer les données pour ne garder que les patients tels que \"age <= max_age\"\n"
   ]
  },
  {
   "cell_type": "markdown",
   "id": "3d9f1928",
   "metadata": {},
   "source": [
    "Appliquer successivement les 3 filtres au sein d'une fonction qui prend en entrée le dataframe, _stroke_, _gender_, _max_age_ et qui renvoie une liste de dictionnaire de patients (utiliser la méthode pandas [to_dict](https://pandas.pydata.org/docs/reference/api/pandas.DataFrame.to_dict.html)).\n",
    "\n",
    "Exemple\n",
    "```\n",
    "[{'id': 9046,\n",
    "  'gender': 'Male',\n",
    "  'age': 67.0,\n",
    "  ...\n",
    "  'smoking_status': 'formerly smoked',\n",
    "  'stroke': 1},\n",
    " {'id': 31112,\n",
    "  'gender': 'Male',\n",
    "  'age': 80.0,\n",
    "  ...\n",
    "  'smoking_status': 'formerly smoked',\n",
    "  'stroke': 1}]\n",
    "  ```"
   ]
  },
  {
   "cell_type": "code",
   "execution_count": null,
   "id": "9c364a35",
   "metadata": {},
   "outputs": [],
   "source": [
    "def filter_patient(df, max_age, gender, stroke):"
   ]
  },
  {
   "cell_type": "markdown",
   "id": "85017c8f",
   "metadata": {},
   "source": [
    "A présent on souhaite ajouter des informations sur les types des paramètres et valeurs de retour de la fonction pour faciliter sa compréhension et son utilisation, ce qu’on appelle l’annotation de type (type hinting).\n",
    "\n",
    "Cette pratique facilite la lecture et la maintenance du code.\n",
    "\n",
    "Quels changements pour la fonction ?\n",
    "\n",
    "A la suite de chaque paramètre, on ajoute le type attendu pour le paramètre. À la suite des paramètres on ajoute le type de ce que qui est retourné par la fonction, dans l'exemple ici : \n",
    "\n",
    "```def filter_patient(stroke_data_df: pd.DataFrame, gender: str, etc) -> list[dict]```\n",
    "\n",
    "Ajouter les types dans la définition de la fonction."
   ]
  },
  {
   "cell_type": "markdown",
   "id": "615b7f0a",
   "metadata": {},
   "source": [
    "Tester la fonction en ne mettant pas de valeur pour *max_age*.\n",
    "\n",
    "Que se passe-t-il ?"
   ]
  },
  {
   "cell_type": "code",
   "execution_count": null,
   "id": "78da71a5",
   "metadata": {},
   "outputs": [],
   "source": []
  },
  {
   "cell_type": "markdown",
   "id": "956bca5f",
   "metadata": {},
   "source": [
    "Dans la fonction écrite ci-dessus, chaque paramètre est obligatoire. \n",
    "\n",
    "On souhaite pouvoir filtrer les patients sur 0, 1 ou 2 des paramètres de la fonction (filtrer seulement sur *max_age*  mais ne pas appliquer de filtres sur _gender_ et _stroke_ par exemple).\n",
    "\n",
    "On peut rendre optionnel les paramètres d'un fonction en choisissant une valeur par défault. Si on utilise la fonction en n'utilisant pas ces paramètres alors la valeur par défault est utilisé.\n",
    "\n",
    "Copier coller votre fonction ci-dessous et ajouter en paramètre : `max_age=None`\n",
    "\n",
    "et ajouter la condition suivante **avant le filtre** sur `max_age` : \n",
    "\n",
    "```if max_age is not None : ``` \n",
    "\n",
    "Si la fonction _filter_patient_ est appelée sans argument *max_age*, alors le filtre sur *max_age* n'est pas appliqué. \n",
    "\n",
    "Il est tout à fait possible de définir une valeur par défault par exemple 30 ans : dans ce cas si la fonction est appelée sans argument *max_age*, alors par défault on filtre les patients ayant moins de 30 ans.\n",
    "\n",
    "**ATTENTION :** Les paramètres optionnels doivent toujours être à la fin de la liste de paramètres."
   ]
  },
  {
   "cell_type": "code",
   "execution_count": null,
   "id": "88f987b6",
   "metadata": {},
   "outputs": [],
   "source": [
    "# fonction filter_patient paramètre max_age optionnel\n"
   ]
  },
  {
   "cell_type": "code",
   "execution_count": null,
   "id": "23084a14",
   "metadata": {},
   "outputs": [],
   "source": [
    "# test fonction sans argument max_age\n"
   ]
  },
  {
   "cell_type": "markdown",
   "id": "4fe7f5de",
   "metadata": {},
   "source": [
    "Ajouter des valeurs par défault et les conditions pour chaque filtre.\n",
    "\n",
    "Pour les types, on indique qu'il s'agit de paramètres optionels en utilisant le module python _typing_\n",
    "\n",
    "```\n",
    "from typing import Optional\n",
    "def filter_patient(stroke_data_df: pd.DataFrame, gender: Optional[str] = None,etc)\n",
    "```\n",
    "\n",
    "Adapter les types en utilisant ce modèle."
   ]
  },
  {
   "cell_type": "code",
   "execution_count": null,
   "id": "55db8ac0",
   "metadata": {},
   "outputs": [],
   "source": [
    "# fonction avec ajout de paramètres par défault et de type"
   ]
  },
  {
   "cell_type": "markdown",
   "id": "a0c073eb",
   "metadata": {},
   "source": [
    "Tester la fonction sans argument pour les filtres, elle doit donc renvoyer le dataframe non filtré."
   ]
  },
  {
   "cell_type": "code",
   "execution_count": null,
   "id": "13ffbfd1",
   "metadata": {},
   "outputs": [],
   "source": [
    "# test fonction sans argument pour les filtres"
   ]
  },
  {
   "cell_type": "markdown",
   "id": "a7816b86",
   "metadata": {},
   "source": [
    "Cette fonction va être utilisée dans la définition de l'API pour créer une route qui permette d'accéder à des données filtrées sur les patients.\n",
    "\n",
    "Dans le fichier de définition de l'API, toutes les fonctions vont travailler sur les données du fichier. \n",
    "\n",
    "Pour alléger les fonctions on va donc utiliser une **variable globale** pour les données et supprimer le paramètre `df` de la fonction.\n",
    "\n",
    "On lit les données en début de fichier puis on travaille au sein des fonctions sur une copie du dataframe de données.\n",
    "\n",
    "\n",
    "**En résumé les modifications à faire sont :**\n",
    "\n",
    "\n",
    "- Supprimer le paramètre df de la fonction,\n",
    "- Ajouter en début de fonction :  \n",
    "```df = stroke_data_df.copy()```\n",
    "\n",
    "1. Dans le fichier filters.py, il suffit d'ajouter : \n",
    "- lecture du fichier de données prétraitée dans la variable *df* en début de fichier (utiliser pandas),\n",
    "- @app.get(\"/patients/\") pour définir le route,\n",
    "puis la fonction.\n",
    "\n",
    "2. Dans le fichier api.py: appeler la fonction dans la route correspondante.\n",
    "\n",
    "Tester la route avec \n",
    "\n",
    "```poetry run fastapi dev stroke_api/main.py```\n",
    "\n",
    "http://127.0.0.1:8000/docs : utiliser la fonctionnalité Try it out pour tester la route."
   ]
  },
  {
   "cell_type": "markdown",
   "id": "d4b80fee",
   "metadata": {},
   "source": [
    "---\n",
    "## Autres routes\n",
    "\n",
    "De la même manière, créer les fonctions appropriées pour la création de :\n",
    "- la route `/patients/{id}` : Récupère les détails d’un patient donné (via son identifiant unique) \n",
    "\n",
    "- la route `/stats/` : Fournit des statistiques agrégées sur les patients (ex. : nb total de patients, âge moyen, taux d’AVC, répartition hommes/femmes).\n",
    "\n",
    "- Lister les tâches à faire sous forme d'issue github : travailler sur une branche différentes pour l'ajout de chacune des routes."
   ]
  }
 ],
 "metadata": {
  "kernelspec": {
   "display_name": "stroke-api-UO5xNa8K-py3.12",
   "language": "python",
   "name": "python3"
  },
  "language_info": {
   "codemirror_mode": {
    "name": "ipython",
    "version": 3
   },
   "file_extension": ".py",
   "mimetype": "text/x-python",
   "name": "python",
   "nbconvert_exporter": "python",
   "pygments_lexer": "ipython3",
   "version": "3.12.3"
  }
 },
 "nbformat": 4,
 "nbformat_minor": 5
}
